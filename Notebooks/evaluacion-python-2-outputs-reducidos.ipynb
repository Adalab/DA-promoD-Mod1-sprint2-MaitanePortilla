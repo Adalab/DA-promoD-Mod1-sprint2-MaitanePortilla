{
 "cells": [
  {
   "cell_type": "code",
   "execution_count": 1,
   "metadata": {},
   "outputs": [],
   "source": [
    "import re\n",
    "import os"
   ]
  },
  {
   "attachments": {},
   "cell_type": "markdown",
   "metadata": {},
   "source": [
    "En esta evaluación tendremos que crearnos una clase. Estamos trabajando para una editorial y tienen muchos ficheros de tipo .txt. Quieren hacer un estudio de palabras de los textos que tienen, para ello nos piden que nos creemos una clase que:\n",
    "\n",
    "- Reciba dos parámetros en el método constructor: \n",
    "\n",
    "    - La ruta donde se encuentra el fichero\n",
    "    - El nombre y la extensión del fichero que quieren abrir. \n",
    "    \n",
    "- Tenga un método que nos abra el fichero en python, como un único *string*. Este método tiene que ser capaz de abrir cualquier tipo de fichero y que este ubicado en cualquier ubicación de nuestros ordenadores. \n",
    "\n",
    "- Tenga un método que lea un número \"X\" de palabras del texto. En este caso, el número de palabras que queremos leer debe ser un parámetro de este método. En este código deberemos incluir:\n",
    "    - Que si nos pasan como valor de número de palabras un número que no sea *integer*, nos salga un mensaje por pantalla que nos avise que la operación no se pueden hacer ya que necesitamos que sea un número *integer*. \n",
    "\n",
    "- Similar que en el paso anterior, crea un método que nos permita leer \"X\" lineas del texto. En este caso, el número de lineas que quiere leer el usuario no debe ser un parámetro del método. Tendremos que:\n",
    "\n",
    "    - Crear un *input* en el método que le pregunte al usuario cuántas líneas quiere leer\n",
    "\n",
    "    - Que tenga un control de errores por si el valor que nos pasa el usuario no es correcto, como por ejemplo un valor decimal. \n",
    "\n",
    "    - Además tenemos que tener en cuenta en el código que puede que el usuario quiera leer todas las líneas del archivo. Incluye en el programa el código necesario para que si el usuario nos indica que quiere leer todas las líneas el programa lo pueda hacer.  \n",
    "\n",
    "    **BONUS** En vez de devolver el resultado como una lista de *string* devuelvelo como un único *string*. \n",
    "\n",
    "- En este punto de la evaluación ya os habréis dado cuenta que en este fichero las primeras lineas no corresponden al quijote. Pero entonces... ¿en qué punto empieza el libro del quijote? En concreto, el libro está comprendido entre la lineas 1780 y 74276. Crea un método que solo nos devuelva el contenido del libro, sin la introducción inicial. \n",
    "\n",
    "\n",
    "-  Crea un último método en la clase que nos permita extraer las veces que aparece determinada palabra en el libro. Para eso este método deberá: \n",
    "\n",
    "    - Recibir la palabra o palabras que quiere buscar el usuario en el texto. \n",
    "    - Devolver el número de veces que aparece dicha palabra. \n",
    "    - Para confirmar que vuestro código, deberéis buscar las siguientes palabras como ejemplos de este método: \n",
    "\n",
    "        - Quijote, debemos tener en cuenta que aparezca en mayúscula o en minúscula, es decir, \"Quijote\" o \"quijote\"\n",
    "\n",
    "        - Alonso,  debemos tener en cuenta que aparezca en mayúscula o en minúscula, es decir, \"Alonso\" o \"alonso\"\n",
    "\n",
    "        - Don Quijote, debemos tener en cuenta que aparezca en mayúscula o en minúscula, es decir, \"Don Quijote\" o \"don quijote\"\n",
    "    \n",
    "- **Nota**: Puede que tengáis algunos problemas para abrir el fichero, esto es por el `encoding` que tiene. Para solucionar este problema deberéis usar un encoding = \"latin-1\"\n",
    "\n",
    "- **Nota**: El fichero de `quijote.txt` debe encontrarse en una carpeta llamada `data`, diferente de donde se encuentra este fichero jupyter con la resolución."
   ]
  },
  {
   "cell_type": "code",
   "execution_count": 2,
   "metadata": {},
   "outputs": [],
   "source": [
    "# Creamos la clase con sus métodos correspondientes:\n",
    "class Archivo_txt:\n",
    "    def __init__(self, ruta, fichero): # el método constructor recibe dos parámetro\n",
    "        \"\"\"Esta clase engloba la apertura y trabajo con archivos .txt\n",
    "\n",
    "        Parámetros:\n",
    "            - ruta (str): ruta de la carpeta en la que se encuentra el fichero con el que trabajar\n",
    "            - fichero (str): nombre del fichero con el que se va a trabajar \n",
    "                    (funciona tanto si se incluye la extensión .txt en el nombre como si no se incluye)\n",
    "        \"\"\"\n",
    "        self.ruta = ruta\n",
    "        self.fichero = fichero\n",
    "        self.apertura_txt() # podremos llamar al código del método .apertura_txt() desde otro método\n",
    "        self.contenido_lista\n",
    "        self.contenido_string\n",
    "\n",
    "\n",
    "    def apertura_txt(self):\n",
    "        \"\"\"Este método abre archivos .txt incluyendo las siguientes comprobaciones:\n",
    "            - Con la ruta y el nombre de fichero indicados como argumentos crea la ruta completa (incluyendo el \n",
    "              nombre y extensión de archivo). Se incluye el código para que si por error se introduce el nombre de archivo \n",
    "              sin extensión siga funcionando.\n",
    "            - Comprueba que el archivo existe en el directorio indicado y si no es así muestra por pantalla un aviso\n",
    "            - Tras estas comprobaciones abre el archivo en modo 'rt' y extrae todo el contenido en una lista de strings\n",
    "\n",
    "        Return: devuelve el contenido del archivo en un único string\n",
    "        \"\"\"\n",
    "        fichero_sin_ext = self.fichero.replace('.txt', '') # revisamos si el nombre del fichero lleva la extensión y se la eliminamos si la tiene\n",
    "        nombre_txt = fichero_sin_ext + '.txt' # aquí le ponemos la extensión (de este modo el método funciona se introduzca o no la extensión '.txt' junto con el nombre del archivo)\n",
    "        ruta_completa = self.ruta + '/' + nombre_txt\n",
    "        if nombre_txt in os.listdir(self.ruta): # nos aseguramos de que el archivo exista en esa ruta\n",
    "            with open(ruta_completa, encoding = \"latin-1\") as f: # abrimos el archivo y extraemos el contenido completo\n",
    "                self.contenido_lista = f.readlines()\n",
    "                f.close()\n",
    "            self.contenido_string = ' '.join(self.contenido_lista) # convertimos la lista de strings en un único string\n",
    "            return self.contenido_string\n",
    "        else: # si el archivo no existe en esa ruta mostramos un aviso por pantalla\n",
    "            print(f'El archivo {self.fichero} no se encentra en la ruta {self.ruta}')\n",
    "    \n",
    "\n",
    "    def lectura_palabras(self, numero_palabras):\n",
    "        \"\"\"Este método aprovecha el código del método .apertura_txt() para abrir archivos .txt y leer el número de \n",
    "        palabras que se indique como argumento. En caso de que no encuentre el archivo o se diera algún otro error que impidiera\n",
    "        ejecutar el código muestra un mensaje de error.\n",
    "\n",
    "        Parámetros:\n",
    "            - numero_palabras (int): número de palabras del fichero que se desea leer (comenzando desde el inicio)\n",
    "        En primer lugar comprueba que el argumento indicado sea un integer para poder ejecutar el resto del código. Si no\n",
    "        lo es muestra por pantalla un mensaje de aviso.\n",
    "\n",
    "        Return: devuelve un string con las primeras palabras del fichero, desde el inicio en adelantes hasta llegar al \n",
    "                número de palabras indicado en el parámetro\n",
    "        \"\"\"        \n",
    "        self.numero_palabras = numero_palabras\n",
    "        try:\n",
    "            if isinstance(numero_palabras, int):\n",
    "                lista_palabras = self.apertura_txt().split() # separamos el string que nos devuelve el método .apertura_txt() en palabras\n",
    "                palabras_leidas = []\n",
    "                for i in range(self.numero_palabras): # iteramos para extraer de la lista de palabras el número de palabras solicitado\n",
    "                    palabras_leidas.append(lista_palabras[i]) # las apendeamos a una lista vacía\n",
    "                palabras_leidas_string = ' '.join(palabras_leidas) # volvemos a unir las palabras en un único string para facilitar su lectura\n",
    "                return palabras_leidas_string\n",
    "            else: # si el argumento indicado no es de tipo integer no es posible realizar la operacion\n",
    "                print(f'No es posible realizar la operación. El número de palabras introducido ({numero_palabras}) debería ser un número de tipo integer')\n",
    "        except:\n",
    "            print('Se ha producido un error')\n",
    "\n",
    "\n",
    "    def lectura_lineas(self):\n",
    "        \"\"\"Este método permite leer un número dado de líneas de un fichero .txt:\n",
    "            - Primero pregunta al usuario si quiere leer el fichero completo y si es así devuelve el contenido del \n",
    "              mismo aprovechando el resultado del método .apertura_txt(). \n",
    "            - En caso de que el ususario no quiera leer el documento completo le solicita el número de líneas que \n",
    "              quiere leer.\n",
    "            - Se incluye un try except para que en el caso de que el valor introducido por el usuario no sea un integer \n",
    "              muestre por pantalla un aviso. Si se introduce un valor válido se devuelve el número de líneas solicitado.\n",
    "        \n",
    "        Return: devuelve el contenido completo del fichero o el número de líneas solicitado por el usuario según el caso \n",
    "                (siempre como un único string)\n",
    "        \"\"\"\n",
    "        lineas_todas = input('¿Desea leer el documento completo? si/no').lower() # primero preguntamos si quiere el documento completo\n",
    "        if lineas_todas == 'si' or lineas_todas == 'sí':\n",
    "            return self.contenido_string # y aprovechamos el resultado del método apertura si es eso lo que quiere\n",
    "        else:\n",
    "            try:\n",
    "                numero_lineas = int(input('¿Cuántas líneas desea leer?'))\n",
    "                lineas_solicitadas = []\n",
    "                for num in range(numero_lineas):\n",
    "                    lineas_solicitadas.append(self.contenido_lista[num])\n",
    "                lineas_string = ' '.join(lineas_solicitadas) # en vez de dar el resultado como lista de string lo damos en un único string\n",
    "                return lineas_string\n",
    "            except: # si el argumento indicado no es de tipo integer no es posible realizar la operacion\n",
    "                print('No es posible realizar la operación. El número de líneas introducido debería ser un número entero')\n",
    "\n",
    "\n",
    "    def texto_sin_intro(self, linea_inicio, linea_fin):\n",
    "        \"\"\"Este método realiza un extracto del texto de un fichero .txt en base a la línea inicio y la línea fin indicadas.\n",
    "        En caso de que los argumentos indicados no sean integers muestra por pantalla un mensaje de aviso.\n",
    "        Parámetros:\n",
    "            - linea_inicio (int): primera línea que se quiere extraer\n",
    "            - linea_fin (int): última línea que se quiere extraer\n",
    "        Se printean las filas indicadas (primera y última) para facilitar el control del extracto realizado.\n",
    "            \n",
    "        Return: devuelve el extracto solicitado como un único string\n",
    "        \"\"\"\n",
    "        self.linea_inicio = linea_inicio\n",
    "        self.linea_fin = linea_fin\n",
    "        lista_extracto = []\n",
    "        if isinstance(self.linea_inicio, int) and isinstance(self.linea_fin, int):\n",
    "            for linea in range(self.linea_inicio, (self.linea_fin + 1)): # sabiendo las posiciones entre las que está el texto accedemos a ellas y las extraemos mediante un buble for\n",
    "                lista_extracto.append(self.contenido_lista[linea])\n",
    "            extracto_string = ' '.join(lista_extracto)\n",
    "        else: # si el argumento indicado no es de tipo integer no es posible realizar la operacion\n",
    "            print('No es posible realizar la operación. Los valores indicados deberían ser un números enteros')\n",
    "        print(f'La primera línea es: {self.contenido_lista[self.linea_inicio]}') # Como comprobación adicional se printean la primera y última líneas\n",
    "        print(f'La última línea es: {self.contenido_lista[self.linea_fin]}')\n",
    "        return f'A continuación se extrae el texto completo: {extracto_string}'\n",
    "\n",
    "\n",
    "    def contar_palabra(self, palabra):\n",
    "        \"\"\"Este método cuenta el número de veces que aparece una palabra o expresión dada en un fichero .txt.\n",
    "        Se realiza una búsqueda no case-sensitive.\n",
    "        Parámetro:\n",
    "            - palabra (str): palabra o expresión a contar\n",
    "        \n",
    "        Return: Devuelve el número de veces que aparece la palabra o expresión dada en el fichero indicado.\n",
    "        \"\"\"\n",
    "        self.palabra = palabra\n",
    "        if palabra.lower() in self.contenido_string.lower(): # aplicamos el .lower() a la palabra y el texto para que la búsqueda no sea case-sensitive\n",
    "            coincidencias = re.findall(self.palabra.lower(), self.contenido_string.lower()) \n",
    "            return len(coincidencias)\n",
    "        else:\n",
    "            print(f'No se ha encontrado la palabra {self.palabra} en el texto especificado.')\n"
   ]
  },
  {
   "cell_type": "code",
   "execution_count": 7,
   "metadata": {},
   "outputs": [],
   "source": [
    "# Instanciamos la clase\n",
    "ruta_quijote = '../Data'\n",
    "nombre_quijote = 'quijote.txt'\n",
    "quijote = Archivo_txt(ruta_quijote, nombre_quijote)"
   ]
  },
  {
   "cell_type": "code",
   "execution_count": 9,
   "metadata": {},
   "outputs": [
    {
     "name": "stdout",
     "output_type": "stream",
     "text": [
      "<class 'str'>\n",
      "Project Gutenberg Etext of Don Quijote, by Cervantes, in Spanish\n",
      " \n",
      " #2 in our series by Cervantes\n",
      " \n",
      " \n",
      " \n",
      " We will be presenting two versions of this, one in HTML and one\n",
      " \n",
      " in \"Plain Upper ASCII Spanis\n"
     ]
    }
   ],
   "source": [
    "# Abrimos el fichero con el método .apertura_txt()\n",
    "cont_quijote = quijote.apertura_txt()\n",
    "print(type(cont_quijote)) # comprobamos que lo abre como un string\n",
    "print(cont_quijote[:200]) # printeamos el contenido"
   ]
  },
  {
   "cell_type": "code",
   "execution_count": 10,
   "metadata": {},
   "outputs": [
    {
     "name": "stdout",
     "output_type": "stream",
     "text": [
      "No es posible realizar la operación. El número de palabras introducido (5) debería ser un número de tipo integer\n"
     ]
    }
   ],
   "source": [
    "# Realizamos varias pruebas de conteo de palabras con el métdodo .lectura_palabras()\n",
    "palabras_quijote_str = quijote.lectura_palabras('5')\n",
    "palabras_quijote_str"
   ]
  },
  {
   "cell_type": "code",
   "execution_count": 11,
   "metadata": {},
   "outputs": [
    {
     "name": "stdout",
     "output_type": "stream",
     "text": [
      "No es posible realizar la operación. El número de palabras introducido (7.8) debería ser un número de tipo integer\n"
     ]
    }
   ],
   "source": [
    "palabras_quijote_dec = quijote.lectura_palabras(7.8)\n",
    "palabras_quijote_dec"
   ]
  },
  {
   "cell_type": "code",
   "execution_count": 12,
   "metadata": {},
   "outputs": [
    {
     "data": {
      "text/plain": [
       "'Project Gutenberg Etext of Don Quijote, by Cervantes, in Spanish #2 in our series by'"
      ]
     },
     "execution_count": 12,
     "metadata": {},
     "output_type": "execute_result"
    }
   ],
   "source": [
    "palabras_quijote_int = quijote.lectura_palabras(15)\n",
    "palabras_quijote_int"
   ]
  },
  {
   "cell_type": "code",
   "execution_count": 13,
   "metadata": {},
   "outputs": [
    {
     "name": "stdout",
     "output_type": "stream",
     "text": [
      "<class 'str'>\n",
      "Project Gutenberg Etext of Don Quijote, by Cervantes, in Spanish\n",
      " \n",
      " #2 in our series by Cervantes\n",
      " \n",
      " \n",
      " \n",
      " We will be presenting two versions of this, one in HTML and one\n",
      " \n",
      " in \"Plain Upper ASCII Spanis\n"
     ]
    }
   ],
   "source": [
    "# Realizamos varias pruebas de lectura de líneas con el métdodo .lectura_lineas()\n",
    "# Indicamos que sí queremos el documento completo\n",
    "lineas_si = quijote.lectura_lineas()\n",
    "print(type(lineas_si)) # comprobamos que el resultado es un string\n",
    "print(lineas_si[:200]) "
   ]
  },
  {
   "cell_type": "code",
   "execution_count": 14,
   "metadata": {},
   "outputs": [
    {
     "name": "stdout",
     "output_type": "stream",
     "text": [
      "Project Gutenberg Etext of Don Quijote, by Cervantes, in Spanish\n",
      " \n",
      " #2 in our series by Cervantes\n",
      " \n",
      " \n",
      " \n",
      " We will be presenting two versions of this, one in HTML and one\n",
      " \n",
      " in \"Plain Upper ASCII Spanish.\"\n",
      " \n",
      " \n",
      " \n",
      " The HTML file will have \"h\" as the last character in the name...\n",
      " \n",
      " such as 2donq10h.htm and the plain file will be 2donq10.txt\n",
      " \n",
      " \n",
      " \n",
      " \n",
      " \n",
      "\n"
     ]
    }
   ],
   "source": [
    "\n",
    "# introducimos el valor 20 (integer)\n",
    "lineas20 = quijote.lectura_lineas()\n",
    "print(lineas20)"
   ]
  },
  {
   "cell_type": "code",
   "execution_count": 15,
   "metadata": {},
   "outputs": [
    {
     "name": "stdout",
     "output_type": "stream",
     "text": [
      "No es posible realizar la operación. El número de líneas introducido debería ser un número entero\n"
     ]
    }
   ],
   "source": [
    "# introducimos un valor no válido como número de líneas: veinte\n",
    "lineas_string = quijote.lectura_lineas()\n",
    "lineas_string"
   ]
  },
  {
   "cell_type": "code",
   "execution_count": 16,
   "metadata": {},
   "outputs": [
    {
     "name": "stdout",
     "output_type": "stream",
     "text": [
      "No es posible realizar la operación. El número de líneas introducido debería ser un número entero\n"
     ]
    }
   ],
   "source": [
    "# introducimos un valor no válido como número de líneas: 3.5\n",
    "lineas_decimal = quijote.lectura_lineas()\n",
    "lineas_decimal"
   ]
  },
  {
   "cell_type": "code",
   "execution_count": 17,
   "metadata": {},
   "outputs": [
    {
     "name": "stdout",
     "output_type": "stream",
     "text": [
      "La primera línea es: En un lugar de la Mancha, de cuyo nombre no quiero acordarme, no ha mucho\n",
      "\n",
      "La última línea es: Fin\n",
      "\n",
      "A continuación se extrae el texto completo: En un lugar de la Mancha, de cuyo nombre no quiero acordarme, no ha mucho\n",
      " \n",
      " tiempo que vivía un hidalgo de los de lanza en astillero, adarga antigua,\n",
      " \n",
      " \n"
     ]
    }
   ],
   "source": [
    "# aplicamos el método .texto_sin_intro() para obtener tan solo el contenido del libro:\n",
    "quijote_linea_inicio = 1780\n",
    "quijote_linea_fin = 74276\n",
    "quijote_sin_intro = quijote.texto_sin_intro(quijote_linea_inicio, quijote_linea_fin)\n",
    "print(quijote_sin_intro[:198]) "
   ]
  },
  {
   "cell_type": "code",
   "execution_count": 18,
   "metadata": {},
   "outputs": [
    {
     "name": "stdout",
     "output_type": "stream",
     "text": [
      "La palabra Quijote aparece 2182 veces\n"
     ]
    }
   ],
   "source": [
    "# comprobamos el funcionamiento del método .contar_palabra()\n",
    "patron1 = 'Quijote'\n",
    "conteo_palabra1 = quijote.contar_palabra(patron1)\n",
    "print(f'La palabra {patron1} aparece {conteo_palabra1} veces')"
   ]
  },
  {
   "cell_type": "code",
   "execution_count": 19,
   "metadata": {},
   "outputs": [
    {
     "name": "stdout",
     "output_type": "stream",
     "text": [
      "La palabra Alonso aparece 10 veces\n"
     ]
    }
   ],
   "source": [
    "patron2 = 'Alonso'\n",
    "conteo_palabra2 = quijote.contar_palabra(patron2)\n",
    "print(f'La palabra {patron2} aparece {conteo_palabra2} veces')"
   ]
  },
  {
   "cell_type": "code",
   "execution_count": 20,
   "metadata": {},
   "outputs": [
    {
     "name": "stdout",
     "output_type": "stream",
     "text": [
      "La expresión Don Quijote aparece 2013 veces\n"
     ]
    }
   ],
   "source": [
    "patron3 = 'Don Quijote'\n",
    "conteo_palabra3 = quijote.contar_palabra(patron3)\n",
    "print(f'La expresión {patron3} aparece {conteo_palabra3} veces')"
   ]
  }
 ],
 "metadata": {
  "kernelspec": {
   "display_name": "adalabenv",
   "language": "python",
   "name": "python3"
  },
  "language_info": {
   "codemirror_mode": {
    "name": "ipython",
    "version": 3
   },
   "file_extension": ".py",
   "mimetype": "text/x-python",
   "name": "python",
   "nbconvert_exporter": "python",
   "pygments_lexer": "ipython3",
   "version": "3.10.9"
  },
  "orig_nbformat": 4,
  "vscode": {
   "interpreter": {
    "hash": "982f2751c33df6248463c13acbc6212f8872fb2f983edea342e7641fdc0e9b5d"
   }
  }
 },
 "nbformat": 4,
 "nbformat_minor": 2
}
